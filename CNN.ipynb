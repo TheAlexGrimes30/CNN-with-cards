{
 "cells": [
  {
   "cell_type": "markdown",
   "source": [],
   "metadata": {
    "collapsed": false
   },
   "id": "46f8dcafb19921e5"
  },
  {
   "cell_type": "markdown",
   "source": [
    "Гопиенко Александр КИ22-17/2Б \n",
    "Практическая работа №2 по глубокому обучению"
   ],
   "metadata": {
    "collapsed": false
   },
   "id": "f140d1219b5cd91a"
  },
  {
   "cell_type": "code",
   "execution_count": 1,
   "outputs": [
    {
     "name": "stdout",
     "output_type": "stream",
     "text": [
      "WARNING:tensorflow:From C:\\Users\\sagop\\venv\\lib\\site-packages\\keras\\src\\losses.py:2976: The name tf.losses.sparse_softmax_cross_entropy is deprecated. Please use tf.compat.v1.losses.sparse_softmax_cross_entropy instead.\n"
     ]
    }
   ],
   "source": [
    "from keras.preprocessing.image import ImageDataGenerator\n",
    "from keras.models import Sequential\n",
    "from keras.layers import Conv2D, MaxPooling2D, Flatten, Dense, Dropout\n",
    "from keras.callbacks import EarlyStopping\n",
    "from keras import regularizers\n",
    "from keras.applications import VGG16"
   ],
   "metadata": {
    "collapsed": false,
    "ExecuteTime": {
     "end_time": "2024-04-20T14:51:20.591047400Z",
     "start_time": "2024-04-20T14:50:54.432181700Z"
    }
   },
   "id": "a7b11fa12725d3a9"
  },
  {
   "cell_type": "markdown",
   "source": [
    "Загрузка данных и аугментация"
   ],
   "metadata": {
    "collapsed": false
   },
   "id": "d21bbf340f078899"
  },
  {
   "cell_type": "code",
   "execution_count": 2,
   "outputs": [],
   "source": [
    "train_data_dir = r\"train\"\n",
    "test_data_dir = r\"test\"\n",
    "valid_data_dir = r\"valid\"\n",
    "\n",
    "image_data_generator = ImageDataGenerator(\n",
    "    rescale=1./255,\n",
    "    rotation_range=20,\n",
    "    width_shift_range=0.2,\n",
    "    height_shift_range=0.2,\n",
    "    shear_range=0.2,\n",
    "    zoom_range=0.2,\n",
    "    horizontal_flip=True,\n",
    "    fill_mode='nearest'\n",
    ")"
   ],
   "metadata": {
    "collapsed": false,
    "ExecuteTime": {
     "end_time": "2024-04-20T14:51:20.682255700Z",
     "start_time": "2024-04-20T14:51:20.590049500Z"
    }
   },
   "id": "f26d6b8df4c0bd7b"
  },
  {
   "cell_type": "markdown",
   "source": [
    "Создание тренировочной, тестовой и валидационных выборок"
   ],
   "metadata": {
    "collapsed": false
   },
   "id": "332445490aecebde"
  },
  {
   "cell_type": "code",
   "execution_count": 3,
   "outputs": [
    {
     "name": "stdout",
     "output_type": "stream",
     "text": [
      "Found 7624 images belonging to 53 classes.\n",
      "Found 265 images belonging to 53 classes.\n",
      "Found 265 images belonging to 53 classes.\n"
     ]
    }
   ],
   "source": [
    "img_width, img_height = 224, 224\n",
    "train_generator = image_data_generator.flow_from_directory(\n",
    "    train_data_dir,\n",
    "    target_size=(img_width, img_height),\n",
    "    batch_size=32,\n",
    "    class_mode='categorical'\n",
    ")\n",
    "\n",
    "test_generator = image_data_generator.flow_from_directory(\n",
    "    test_data_dir,\n",
    "    target_size=(img_width, img_height),\n",
    "    batch_size=32,\n",
    "    class_mode='categorical'\n",
    ")\n",
    "\n",
    "valid_generator = image_data_generator.flow_from_directory(\n",
    "    valid_data_dir,\n",
    "    target_size=(img_width, img_height),\n",
    "    batch_size=32,\n",
    "    class_mode='categorical'\n",
    ")"
   ],
   "metadata": {
    "collapsed": false,
    "ExecuteTime": {
     "end_time": "2024-04-20T14:51:21.446000700Z",
     "start_time": "2024-04-20T14:51:20.636055700Z"
    }
   },
   "id": "768f702280b558f0"
  },
  {
   "cell_type": "markdown",
   "source": [
    "Создание свёрточной нейронной сети"
   ],
   "metadata": {
    "collapsed": false
   },
   "id": "c988f552a79b4df4"
  },
  {
   "cell_type": "code",
   "execution_count": 4,
   "outputs": [
    {
     "name": "stdout",
     "output_type": "stream",
     "text": [
      "WARNING:tensorflow:From C:\\Users\\sagop\\venv\\lib\\site-packages\\keras\\src\\backend.py:873: The name tf.get_default_graph is deprecated. Please use tf.compat.v1.get_default_graph instead.\n",
      "WARNING:tensorflow:From C:\\Users\\sagop\\venv\\lib\\site-packages\\keras\\src\\layers\\pooling\\max_pooling2d.py:161: The name tf.nn.max_pool is deprecated. Please use tf.nn.max_pool2d instead.\n",
      "WARNING:tensorflow:From C:\\Users\\sagop\\venv\\lib\\site-packages\\keras\\src\\optimizers\\__init__.py:309: The name tf.train.Optimizer is deprecated. Please use tf.compat.v1.train.Optimizer instead.\n",
      "Epoch 1/100\n",
      "WARNING:tensorflow:From C:\\Users\\sagop\\venv\\lib\\site-packages\\keras\\src\\utils\\tf_utils.py:492: The name tf.ragged.RaggedTensorValue is deprecated. Please use tf.compat.v1.ragged.RaggedTensorValue instead.\n",
      "WARNING:tensorflow:From C:\\Users\\sagop\\venv\\lib\\site-packages\\keras\\src\\engine\\base_layer_utils.py:384: The name tf.executing_eagerly_outside_functions is deprecated. Please use tf.compat.v1.executing_eagerly_outside_functions instead.\n",
      "239/239 [==============================] - 301s 1s/step - loss: 3.9338 - accuracy: 0.0395 - val_loss: 3.3662 - val_accuracy: 0.0943\n",
      "Epoch 2/100\n",
      "239/239 [==============================] - 342s 1s/step - loss: 3.3100 - accuracy: 0.1191 - val_loss: 2.9727 - val_accuracy: 0.1396\n",
      "Epoch 3/100\n",
      "239/239 [==============================] - 400s 2s/step - loss: 2.9929 - accuracy: 0.1705 - val_loss: 2.7181 - val_accuracy: 0.2151\n",
      "Epoch 4/100\n",
      "239/239 [==============================] - 391s 2s/step - loss: 2.7788 - accuracy: 0.2231 - val_loss: 2.5768 - val_accuracy: 0.2377\n",
      "Epoch 5/100\n",
      "239/239 [==============================] - 410s 2s/step - loss: 2.6303 - accuracy: 0.2520 - val_loss: 2.4130 - val_accuracy: 0.2755\n",
      "Epoch 6/100\n",
      "239/239 [==============================] - 409s 2s/step - loss: 2.5179 - accuracy: 0.2765 - val_loss: 2.3104 - val_accuracy: 0.3321\n",
      "Epoch 7/100\n",
      "239/239 [==============================] - 421s 2s/step - loss: 2.4284 - accuracy: 0.3051 - val_loss: 2.2579 - val_accuracy: 0.3245\n",
      "Epoch 8/100\n",
      "239/239 [==============================] - 412s 2s/step - loss: 2.3303 - accuracy: 0.3287 - val_loss: 2.1359 - val_accuracy: 0.3358\n",
      "Epoch 9/100\n",
      "239/239 [==============================] - 424s 2s/step - loss: 2.2712 - accuracy: 0.3410 - val_loss: 1.9981 - val_accuracy: 0.4151\n",
      "Epoch 10/100\n",
      "239/239 [==============================] - 400s 2s/step - loss: 2.2234 - accuracy: 0.3547 - val_loss: 1.9286 - val_accuracy: 0.4113\n",
      "Epoch 11/100\n",
      "239/239 [==============================] - 404s 2s/step - loss: 2.1252 - accuracy: 0.3911 - val_loss: 1.8375 - val_accuracy: 0.4302\n",
      "Epoch 12/100\n",
      "239/239 [==============================] - 394s 2s/step - loss: 2.0514 - accuracy: 0.4103 - val_loss: 1.8404 - val_accuracy: 0.4491\n",
      "Epoch 13/100\n",
      "239/239 [==============================] - 381s 2s/step - loss: 1.9867 - accuracy: 0.4284 - val_loss: 1.7393 - val_accuracy: 0.4981\n",
      "Epoch 14/100\n",
      "239/239 [==============================] - 407s 2s/step - loss: 1.9385 - accuracy: 0.4433 - val_loss: 1.8733 - val_accuracy: 0.4377\n",
      "Epoch 15/100\n",
      "239/239 [==============================] - 399s 2s/step - loss: 1.9053 - accuracy: 0.4533 - val_loss: 1.7211 - val_accuracy: 0.4453\n",
      "Epoch 16/100\n",
      "239/239 [==============================] - 382s 2s/step - loss: 1.8181 - accuracy: 0.4837 - val_loss: 1.7379 - val_accuracy: 0.5170\n",
      "Epoch 17/100\n",
      "239/239 [==============================] - 399s 2s/step - loss: 1.7937 - accuracy: 0.4799 - val_loss: 1.5509 - val_accuracy: 0.5358\n"
     ]
    },
    {
     "name": "stderr",
     "output_type": "stream",
     "text": [
      "C:\\Users\\sagop\\AppData\\Local\\Temp\\ipykernel_16984\\260491094.py:19: UserWarning: `Model.evaluate_generator` is deprecated and will be removed in a future version. Please use `Model.evaluate`, which supports generators.\n",
      "  test_loss, test_accuracy = model.evaluate_generator(test_generator)\n"
     ]
    },
    {
     "name": "stdout",
     "output_type": "stream",
     "text": [
      "Test Accuracy: 0.4566037654876709\n",
      "Test Loss: 1.8875964879989624\n"
     ]
    }
   ],
   "source": [
    "model = Sequential()\n",
    "model.add(Conv2D(32, kernel_size=(3, 3), input_shape=(img_width, img_height, 3), activation='relu'))\n",
    "model.add(MaxPooling2D(2,2))\n",
    "model.add(Dropout(0.1))\n",
    "model.add(Conv2D(64, kernel_size=(3, 3), activation='relu'))\n",
    "model.add(MaxPooling2D(2,2))\n",
    "model.add(Dropout(0.1))\n",
    "model.add(Conv2D(128, kernel_size=(3, 3), activation='relu'))\n",
    "model.add(MaxPooling2D(2,2))\n",
    "model.add(Dropout(0.1))\n",
    "model.add(Flatten())\n",
    "model.add(Dense(128, activation='relu'))\n",
    "model.add(Dense(53, activation='softmax'))\n",
    "\n",
    "model.compile(optimizer='adam', loss='categorical_crossentropy', metrics=['accuracy'])\n",
    "callback = EarlyStopping(monitor='accuracy', restore_best_weights=True)\n",
    "\n",
    "history_first = model.fit(train_generator, epochs=100, batch_size=32, validation_data=valid_generator, callbacks=[callback])\n",
    "test_loss, test_accuracy = model.evaluate_generator(test_generator)\n",
    "\n",
    "print(\"Test Accuracy:\", test_accuracy)\n",
    "print(\"Test Loss:\", test_loss)"
   ],
   "metadata": {
    "collapsed": false,
    "ExecuteTime": {
     "end_time": "2024-04-20T16:42:55.917436700Z",
     "start_time": "2024-04-20T14:51:21.403315400Z"
    }
   },
   "id": "c278cdef9f398e04"
  },
  {
   "cell_type": "markdown",
   "source": [
    "Вторая архитектура CNN"
   ],
   "metadata": {
    "collapsed": false
   },
   "id": "c03274725354981d"
  },
  {
   "cell_type": "code",
   "execution_count": 5,
   "outputs": [
    {
     "name": "stdout",
     "output_type": "stream",
     "text": [
      "Epoch 1/100\n",
      "239/239 [==============================] - 369s 2s/step - loss: 5.3715 - accuracy: 0.0209 - val_loss: 4.0487 - val_accuracy: 0.0189\n",
      "Epoch 2/100\n",
      "239/239 [==============================] - 377s 2s/step - loss: 3.9913 - accuracy: 0.0209 - val_loss: 3.9742 - val_accuracy: 0.0189\n",
      "9/9 [==============================] - 5s 537ms/step - loss: 4.0487 - accuracy: 0.0189\n",
      "Test Accuracy: 0.01886792480945587\n",
      "Test Loss: 4.048738479614258\n"
     ]
    }
   ],
   "source": [
    "model = Sequential()\n",
    "model.add(Conv2D(32, kernel_size=(3, 3), input_shape=(img_width, img_height, 3), activation='relu'))\n",
    "model.add(MaxPooling2D(2,2))\n",
    "model.add(Dropout(0.2))\n",
    "model.add(Conv2D(64, kernel_size=(3, 3), activation='relu'))\n",
    "model.add(MaxPooling2D(2,2))\n",
    "model.add(Dropout(0.2))\n",
    "model.add(Flatten())\n",
    "model.add(Dense(128, activation='relu', kernel_regularizer=regularizers.l2(0.01)))\n",
    "model.add(Dense(53, activation='softmax'))\n",
    "\n",
    "model.compile(optimizer='adam', loss='categorical_crossentropy', metrics=['accuracy'])\n",
    "callback = EarlyStopping(monitor='accuracy', restore_best_weights=True)\n",
    "\n",
    "history_second = model.fit(train_generator, epochs=100, batch_size=16, validation_data=valid_generator, callbacks=[callback])\n",
    "test_loss, test_accuracy = model.evaluate(test_generator)\n",
    "\n",
    "print(\"Test Accuracy:\", test_accuracy)\n",
    "print(\"Test Loss:\", test_loss)"
   ],
   "metadata": {
    "collapsed": false,
    "ExecuteTime": {
     "end_time": "2024-04-20T16:55:31.242534200Z",
     "start_time": "2024-04-20T16:42:55.880784400Z"
    }
   },
   "id": "2f80dd42991ad8e6"
  },
  {
   "cell_type": "markdown",
   "source": [
    "Третья модель CNN"
   ],
   "metadata": {
    "collapsed": false
   },
   "id": "77834113fa624949"
  },
  {
   "cell_type": "code",
   "execution_count": 6,
   "outputs": [
    {
     "name": "stdout",
     "output_type": "stream",
     "text": [
      "Epoch 1/100\n",
      "239/239 [==============================] - 436s 2s/step - loss: 32.8731 - accuracy: 0.0211 - val_loss: 15.6515 - val_accuracy: 0.0189\n",
      "Epoch 2/100\n",
      "239/239 [==============================] - 242s 1s/step - loss: 15.6361 - accuracy: 0.0237 - val_loss: 15.6380 - val_accuracy: 0.0189\n",
      "Epoch 3/100\n",
      "239/239 [==============================] - 245s 1s/step - loss: 15.6205 - accuracy: 0.0237 - val_loss: 15.3581 - val_accuracy: 0.0189\n"
     ]
    },
    {
     "name": "stderr",
     "output_type": "stream",
     "text": [
      "C:\\Users\\sagop\\AppData\\Local\\Temp\\ipykernel_16984\\1104017431.py:23: UserWarning: `Model.evaluate_generator` is deprecated and will be removed in a future version. Please use `Model.evaluate`, which supports generators.\n",
      "  test_loss, test_accuracy = model.evaluate_generator(test_generator)\n"
     ]
    },
    {
     "name": "stdout",
     "output_type": "stream",
     "text": [
      "Test Accuracy: 0.01886792480945587\n",
      "Test Loss: 15.63795280456543\n"
     ]
    }
   ],
   "source": [
    "model = Sequential()\n",
    "model.add(Conv2D(32, kernel_size=(3, 3), input_shape=(img_width, img_height, 3), activation='relu'))\n",
    "model.add(MaxPooling2D(2,2))\n",
    "model.add(Dropout(0.2))\n",
    "model.add(Conv2D(64, kernel_size=(3, 3), activation='relu'))\n",
    "model.add(MaxPooling2D(2,2))\n",
    "model.add(Dropout(0.2))\n",
    "model.add(Conv2D(128, kernel_size=(3, 3), activation='relu'))\n",
    "model.add(MaxPooling2D(2,2))\n",
    "model.add(Dropout(0.2))\n",
    "model.add(Conv2D(256, kernel_size=(3, 3), activation='relu'))\n",
    "model.add(MaxPooling2D(2,2))\n",
    "model.add(Dropout(0.2))\n",
    "model.add(Flatten())\n",
    "model.add(Dense(256, activation='relu', kernel_regularizer=regularizers.l1(0.01)))\n",
    "model.add(Dense(53, activation='softmax'))\n",
    "\n",
    "\n",
    "model.compile(optimizer='adam', loss='categorical_crossentropy', metrics=['accuracy'])\n",
    "callback = EarlyStopping(monitor='accuracy', restore_best_weights=True)\n",
    "\n",
    "history_third = model.fit(train_generator, epochs=100, batch_size=32, validation_data=valid_generator, callbacks=[callback])\n",
    "test_loss, test_accuracy = model.evaluate_generator(test_generator)\n",
    "\n",
    "print(\"Test Accuracy:\", test_accuracy)\n",
    "print(\"Test Loss:\", test_loss)"
   ],
   "metadata": {
    "collapsed": false,
    "ExecuteTime": {
     "end_time": "2024-04-20T17:10:59.834644800Z",
     "start_time": "2024-04-20T16:55:31.764365900Z"
    }
   },
   "id": "169018853454539e"
  },
  {
   "cell_type": "markdown",
   "source": [
    "Fine tuning"
   ],
   "metadata": {
    "collapsed": false
   },
   "id": "f47de21de4fbc9a8"
  },
  {
   "cell_type": "code",
   "execution_count": 7,
   "outputs": [
    {
     "name": "stdout",
     "output_type": "stream",
     "text": [
      "Epoch 1/100\n",
      "239/239 [==============================] - 766s 3s/step - loss: 28.9860 - accuracy: 0.0245 - val_loss: 12.4635 - val_accuracy: 0.0189\n",
      "Epoch 2/100\n",
      "239/239 [==============================] - 750s 3s/step - loss: 12.2881 - accuracy: 0.0232 - val_loss: 11.9140 - val_accuracy: 0.0340\n"
     ]
    },
    {
     "name": "stderr",
     "output_type": "stream",
     "text": [
      "C:\\Users\\sagop\\AppData\\Local\\Temp\\ipykernel_16984\\2972188721.py:17: UserWarning: `Model.evaluate_generator` is deprecated and will be removed in a future version. Please use `Model.evaluate`, which supports generators.\n",
      "  test_loss, test_accuracy = model.evaluate_generator(test_generator)\n"
     ]
    },
    {
     "name": "stdout",
     "output_type": "stream",
     "text": [
      "Test Accuracy: 0.01886792480945587\n",
      "Test Loss: 12.460505485534668\n"
     ]
    }
   ],
   "source": [
    "base_model = VGG16(weights='imagenet', include_top=False, input_shape=(img_width, img_height, 3))\n",
    "\n",
    "# Заморозка слоёв\n",
    "for layer in base_model.layers:\n",
    "    layer.trainable = False\n",
    "    \n",
    "model = Sequential()\n",
    "model.add(base_model)\n",
    "model.add(Flatten())\n",
    "model.add(Dense(256, activation='relu', kernel_regularizer=regularizers.l1(0.01)))\n",
    "model.add(Dense(53, activation='softmax'))\n",
    "\n",
    "model.compile(optimizer='adam', loss='categorical_crossentropy', metrics=['accuracy'])\n",
    "\n",
    "history_fourth = model.fit(train_generator, epochs=100, batch_size=32, validation_data=valid_generator, callbacks=[callback])\n",
    "\n",
    "test_loss, test_accuracy = model.evaluate_generator(test_generator)\n",
    "\n",
    "print(\"Test Accuracy:\", test_accuracy)\n",
    "print(\"Test Loss:\", test_loss)"
   ],
   "metadata": {
    "collapsed": false,
    "ExecuteTime": {
     "end_time": "2024-04-20T17:36:42.155299600Z",
     "start_time": "2024-04-20T17:10:59.893796500Z"
    }
   },
   "id": "10cbcd39aa045f8e"
  },
  {
   "cell_type": "markdown",
   "source": [
    "Наилучшая модель CNN - 1 модель"
   ],
   "metadata": {
    "collapsed": false
   },
   "id": "5d95a707d6cf0d5b"
  },
  {
   "cell_type": "markdown",
   "source": [],
   "metadata": {
    "collapsed": false
   },
   "id": "efc9c279b7b2d06b"
  }
 ],
 "metadata": {
  "kernelspec": {
   "display_name": "Python 3",
   "language": "python",
   "name": "python3"
  },
  "language_info": {
   "codemirror_mode": {
    "name": "ipython",
    "version": 2
   },
   "file_extension": ".py",
   "mimetype": "text/x-python",
   "name": "python",
   "nbconvert_exporter": "python",
   "pygments_lexer": "ipython2",
   "version": "2.7.6"
  }
 },
 "nbformat": 4,
 "nbformat_minor": 5
}
